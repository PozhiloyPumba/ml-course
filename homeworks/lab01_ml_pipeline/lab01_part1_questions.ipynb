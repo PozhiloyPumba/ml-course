{
 "cells": [
  {
   "cell_type": "markdown",
   "metadata": {},
   "source": [
    "*Credits: materials from this notebook belong to YSDA [Practical DL](https://github.com/yandexdataschool/Practical_DL) course. Special thanks for making them available online.*"
   ]
  },
  {
   "cell_type": "markdown",
   "metadata": {},
   "source": [
    "# Lab assignment №1, part 1\n",
    "\n",
    "This lab assignment consists of several parts. You are supposed to make some transformations, train some models, estimate the quality of the models and explain your results.\n",
    "\n",
    "Several comments:\n",
    "* Don't hesitate to ask questions, it's a good practice.\n",
    "* No private/public sharing, please. The copied assignments will be graded with 0 points.\n",
    "* Blocks of this lab will be graded separately."
   ]
  },
  {
   "cell_type": "markdown",
   "metadata": {},
   "source": [
    "## 1. Matrix differentiation"
   ]
  },
  {
   "cell_type": "markdown",
   "metadata": {},
   "source": [
    "Since it easy to google every task please please please try to undestand what's going on. The \"just answer\" thing will be not counted, make sure to present derivation of your solution. It is absolutely OK if you found an answer on web then just exercise in $\\LaTeX$ copying it into here."
   ]
  },
  {
   "cell_type": "markdown",
   "metadata": {},
   "source": [
    "Useful links: \n",
    "[1](http://www.machinelearning.ru/wiki/images/2/2a/Matrix-Gauss.pdf)\n",
    "[2](http://www.atmos.washington.edu/~dennis/MatrixCalculus.pdf)"
   ]
  },
  {
   "cell_type": "markdown",
   "metadata": {},
   "source": [
    "## ex. 1"
   ]
  },
  {
   "cell_type": "markdown",
   "metadata": {},
   "source": [
    "$$  \n",
    "y = x^Tx,  \\quad x \\in \\mathbb{R}^N \n",
    "$$"
   ]
  },
  {
   "cell_type": "markdown",
   "metadata": {},
   "source": [
    "$$\n",
    "\\frac{dy}{dx} = ?\n",
    "$$"
   ]
  },
  {
   "cell_type": "markdown",
   "metadata": {},
   "source": [
    "$$\n",
    "y = x^T x = x_i x_i\n",
    "$$\n",
    "$$\n",
    "\\frac{dy}{dx_{\\alpha}} = \\frac{d(x_i x^i)}{dx_{\\alpha}} = 2 x_{\\alpha} \\Rightarrow \\boxed{\\frac{dy}{dx} = 2 x}\n",
    "$$"
   ]
  },
  {
   "cell_type": "markdown",
   "metadata": {},
   "source": [
    "## ex. 2"
   ]
  },
  {
   "cell_type": "markdown",
   "metadata": {},
   "source": [
    "$$ y = tr(AB) \\quad A,B \\in \\mathbb{R}^{N \\times N} $$ "
   ]
  },
  {
   "cell_type": "markdown",
   "metadata": {},
   "source": [
    "$$\n",
    "\\frac{dy}{dA} = ?\n",
    "$$"
   ]
  },
  {
   "cell_type": "markdown",
   "metadata": {},
   "source": [
    "$$\n",
    "(AB)_{i}^j = a_{ik}b^{kj} \\Rightarrow y = tr(AB) = a_{ik}b^{ki}\n",
    "$$\n",
    "\n",
    "$$\n",
    "\\left(\\frac{dy}{dA}\\right)_{\\alpha\\beta} = \\frac{dy}{d(a_{\\alpha\\beta})} = \\frac{d(a_{ik}b^{ki})}{d(a_{\\alpha\\beta})} = \\delta_{i \\alpha}\\delta_{k \\beta}b^{ki} = b_{\\beta\\alpha} \\Rightarrow \\boxed{\\frac{dy}{dA} = B^T}\n",
    "$$"
   ]
  },
  {
   "cell_type": "markdown",
   "metadata": {},
   "source": [
    "## ex. 3"
   ]
  },
  {
   "cell_type": "markdown",
   "metadata": {},
   "source": [
    "$$  \n",
    "y = x^TAc , \\quad A\\in \\mathbb{R}^{N \\times N}, x\\in \\mathbb{R}^{N}, c\\in \\mathbb{R}^{N} \n",
    "$$"
   ]
  },
  {
   "cell_type": "markdown",
   "metadata": {},
   "source": [
    "$$\n",
    "\\frac{dy}{dx} = ?\n",
    "$$"
   ]
  },
  {
   "cell_type": "markdown",
   "metadata": {},
   "source": [
    "$$\n",
    "\\frac{dy}{dA} = ?\n",
    "$$ "
   ]
  },
  {
   "cell_type": "markdown",
   "metadata": {},
   "source": [
    "$$\n",
    "y = x_i a^{i}_j c^j\n",
    "$$"
   ]
  },
  {
   "cell_type": "markdown",
   "metadata": {},
   "source": [
    "$$\n",
    "\\left(\\frac{dy}{dx}\\right)_{\\alpha} = \\left(\\frac{d(x_i a^{i}_j c^j)}{dx_{\\alpha}}\\right) = a_{\\alpha}^j c_j \\Rightarrow\\boxed{\\frac{dy}{dx} = A c} \n",
    "$$"
   ]
  },
  {
   "cell_type": "markdown",
   "metadata": {},
   "source": [
    "$$\n",
    "\\left(\\frac{dy}{dA}\\right)_{\\beta}^{\\alpha} = \\left(\\frac{d(x_i a^{i}_j c^j)}{d(a^{\\alpha}_{\\beta})}\\right) = x^{\\alpha} c_{\\beta} \\Rightarrow \\boxed{\\frac{dy}{dA} = x c^T}\n",
    "$$"
   ]
  },
  {
   "cell_type": "markdown",
   "metadata": {},
   "source": [
    "Hint for the latter (one of the ways): use *ex. 2* result and the fact \n",
    "$$\n",
    "tr(ABC) = tr (CAB)\n",
    "$$"
   ]
  },
  {
   "cell_type": "markdown",
   "metadata": {},
   "source": [
    "## ex. 4"
   ]
  },
  {
   "cell_type": "markdown",
   "metadata": {},
   "source": [
    "Classic matrix factorization example. Given matrix $X$ you need to find $A$, $S$ to approximate $X$. This can be done by simple gradient descent iteratively alternating $A$ and $S$ updates.\n",
    "$$\n",
    "J = || X - AS ||_F^2  , \\quad A\\in \\mathbb{R}^{N \\times R} , \\quad S\\in \\mathbb{R}^{R \\times M}\n",
    "$$\n",
    "$$\n",
    "\\frac{dJ}{dS} = ? \n",
    "$$\n",
    "\n",
    "You may use one of the following approaches:"
   ]
  },
  {
   "cell_type": "markdown",
   "metadata": {},
   "source": [
    "#### First approach\n",
    "Using ex.2 and the fact:\n",
    "$$\n",
    "|| X ||_F^2 = tr(XX^T) \n",
    "$$ \n",
    "it is easy to derive gradients (you can find it in one of the refs). "
   ]
  },
  {
   "cell_type": "markdown",
   "metadata": {},
   "source": [
    "\\begin{gather*}\n",
    "z_{i}^j = (X-AS)_{i}^j = x_i^j-a_{ik}s^{kj} \\\\\n",
    "w_{i}^j = ((X-AS)^T)_{i}^j = x_j^i-a_{jk}s^{ki} \\\\\n",
    "J = tr(ZW) = tr(z_i^lw_l^j) = tr((x_{i}^l-a_{ik_1}s^{k_1l})(x^{j}_l-a^{jk_2}s_{k_2l})) = (x_{i}^l-a_{ik_1}s^{k_1l})(x^{i}_l-a^{ik_2}s_{k_2l}) = x_{i}^lx^{i}_l - a_{ik_1}s^{k_1l}x^i_l - x_{i}^l a^{ik_2}s_{k_2l} + a_{ik_1}s^{k_1l}a^{ik_2}s_{k_2l} \\\\\n",
    "\\left(\\frac{dJ}{dS}\\right)_{\\alpha\\beta} = \\frac{dJ}{d(s_{\\alpha\\beta})} = \\frac{d(x_{i}^lx^{i}_l - a_{ik_1}s^{k_1l}x^i_l - x_{i}^l a^{ik_2}s_{k_2l} + a_{ik_1}s^{k_1l}a^{ik_2}s_{k_2l})}{d(s_{\\alpha\\beta})} = \\\\\n",
    "= \\cancel{\\frac{d(x_{i}^lx^{i}_l)}{d(s_{\\alpha\\beta})}}^0 - \\frac{d(a_{ik_1}s^{k_1l}x^i_l)}{d(s_{\\alpha\\beta})} - \\frac{d(x_{i}^l a^{ik_2}s_{k_2l})}{d(s_{\\alpha\\beta})} + \\frac{d(a_{ik_1}s^{k_1l}a^{ik_2}s_{k_2l})}{d(s_{\\alpha\\beta})} = \\\\\n",
    "= - a_{i\\alpha} x_{\\beta}^i - x_{\\beta}^ia_{i\\alpha} + a_{i\\alpha}a^{ik_2}s_{k_2\\beta} + a^{ik_1}s_{k_1\\beta}a_{i\\alpha} = 2 a_{i\\alpha} \\left(a^{ik}s_{k\\beta} - x_{\\beta}^i \\right) \\Rightarrow \\boxed{\\frac{dJ}{dS} = 2A^T(AS-X)}\n",
    "\\end{gather*}"
   ]
  },
  {
   "cell_type": "markdown",
   "metadata": {},
   "source": [
    "#### Second approach\n",
    "You can use *slightly different techniques* if they suits you. Take a look at this derivation:\n",
    "\n",
    "<img src=\"grad.png\" width=400>\n",
    "\n",
    "(excerpt from [Handbook of blind source separation, Jutten, page 517](https://books.google.ru/books?id=PTbj03bYH6kC&printsec=frontcover&dq=Handbook+of+Blind+Source+Separation&hl=en&sa=X&ved=0ahUKEwi-q_apiJDLAhULvXIKHVXJDWcQ6AEIHDAA#v=onepage&q=Handbook%20of%20Blind%20Source%20Separation&f=false), open for better picture)."
   ]
  },
  {
   "cell_type": "markdown",
   "metadata": {
    "jp-MarkdownHeadingCollapsed": true
   },
   "source": [
    "#### Third approach\n",
    "And finally we can use chain rule! \n",
    "let $ F = AS $ \n",
    "\n",
    "**Find**\n",
    "$$\n",
    "\\frac{dJ}{dF} = ?\n",
    "$$\n",
    "\n",
    "\\begin{gather*}\n",
    "z_{ij} = x_{ij} - f_{ij} \\\\\n",
    "w^{ij} = x^{ji} - f^{ji} \\\\\n",
    "J = tr(z_{il}w^{lj}) = z_{il}w^{li} = (x_{il} - f_{il})(x^{il} - f^{il}) = x_{il}x^{il} - x_{il}f^{il} - f_{il}x^{il} + f_{il}f^{il} \\\\\n",
    "\\left(\\frac{dJ}{dF}\\right)_{\\alpha\\beta} = \\frac{d\\left(\\cancel{x_{il}x^{il}}^0 - x_{il}f^{il} - f_{il}x^{il} + f_{il}f^{il}\\right)}{d(f_{\\alpha\\beta})} = - 2 (x_{\\alpha\\beta} - f_{\\alpha\\beta}) \\Rightarrow \\boxed{\\frac{dJ}{dF} = 2(F-X) }\n",
    "\\end{gather*}\n",
    "\n",
    "and \n",
    "$$\n",
    "\\frac{dF}{dS} = ?\n",
    "$$ \n",
    "\n",
    "$$\n",
    "\\left(\\frac{dF}{dS}\\right)^{\\alpha \\beta j i} = \\frac{d(a_{ik}s^{kj})}{d(s_{\\alpha\\beta})} = \\frac{d(a_{ik}\\Gamma^{k \\mu} \\Gamma^{j \\nu}s_{\\mu \\nu})}{d(s_{\\alpha\\beta})} = a_{ik}\\Gamma^{k \\mu} \\Gamma^{j \\nu}\\delta_{\\alpha \\mu}\\delta_{\\beta \\nu} = (a^T)_{kl}\\Gamma^{i l} \\Gamma^{k \\alpha} \\Gamma^{j \\beta}\n",
    "$$\n",
    "\n",
    "(the shape should be $ NM \\times RM )$.\n",
    "\n",
    "Now it is easy do get desired gradients:\n",
    "\\begin{gather*}\n",
    "\\left(\\frac{dJ}{dS}\\right)_{\\alpha\\beta} = \\left(\\frac{dJ}{dF}\\right)_{ij} \\left(\\frac{dF}{dS}\\right)^{\\mu \\nu i j}\\Gamma_{\\mu \\alpha}\\Gamma_{\\nu \\beta}  = - 2 (x_{ij} - f_{ij})(a^T)_{kl}\\Gamma^{i l} \\Gamma^{k \\mu} \\Gamma^{j \\nu}\\Gamma_{\\mu \\alpha}\\Gamma_{\\nu \\beta} = - 2 (x_{ij} - f_{ij})\\Gamma^{j \\nu}\\Gamma_{\\nu \\beta}(a^T)_{kl}\\Gamma^{k \\mu}\\Gamma_{\\mu \\alpha} \\Gamma^{i l} = \\\\\n",
    "= - 2 (x_{i\\beta} - f_{i\\beta}) a_{l \\alpha} \\Gamma^{i l} = 2 (a^T)_{\\alpha}^{\\;i} (f_{i\\beta} - x_{i\\beta}) \\Rightarrow \\boxed{\\frac{dJ}{dS} = 2A^T(F-X) = 2A^T(AS-X)}\n",
    "\\end{gather*}"
   ]
  },
  {
   "cell_type": "markdown",
   "metadata": {
    "collapsed": true,
    "jupyter": {
     "outputs_hidden": true
    }
   },
   "source": [
    "## 2. kNN questions\n",
    "Here come the questions from the assignment0_01. Please, refer to the assignment0_01 to get the context of the questions."
   ]
  },
  {
   "cell_type": "markdown",
   "metadata": {},
   "source": [
    "### Question 1\n",
    "\n",
    "Notice the structured patterns in the distance matrix, where some rows or columns are visible brighter. (Note that with the default color scheme black indicates low distances while white indicates high distances.)\n",
    "\n",
    "- What in the data is the cause behind the distinctly bright rows?\n",
    "- What causes the columns?\n",
    "\n",
    "*Your Answer:*\n",
    "- **I think this is due to the fact that some samples are very different from the dataset, perhaps due to a very peculiar spelling or something else**\n",
    "- **Dark columns are most likely due to the absence of such a sample in the test sample**\n"
   ]
  },
  {
   "cell_type": "markdown",
   "metadata": {},
   "source": [
    "### Question 2\n",
    "\n",
    "We can also use other distance metrics such as L1 distance.\n",
    "For pixel values $p_{ij}^{(k)}$ at location $(i,j)$ of some image $I_k$, \n",
    "\n",
    "the mean $\\mu$ across all pixels over all images is $$\\mu=\\frac{1}{nhw}\\sum_{k=1}^n\\sum_{i=1}^{h}\\sum_{j=1}^{w}p_{ij}^{(k)}$$\n",
    "And the pixel-wise mean $\\mu_{ij}$ across all images is \n",
    "$$\\mu_{ij}=\\frac{1}{n}\\sum_{k=1}^np_{ij}^{(k)}.$$\n",
    "The general standard deviation $\\sigma$ and pixel-wise standard deviation $\\sigma_{ij}$ is defined similarly.\n",
    "\n",
    "Which of the following preprocessing steps will not change the performance of a Nearest Neighbor classifier that uses L1 distance? Select all that apply.\n",
    "1. Subtracting the mean $\\mu$ ($\\tilde{p}_{ij}^{(k)}=p_{ij}^{(k)}-\\mu$.)\n",
    "2. Subtracting the per pixel mean $\\mu_{ij}$  ($\\tilde{p}_{ij}^{(k)}=p_{ij}^{(k)}-\\mu_{ij}$.)\n",
    "3. Subtracting the mean $\\mu$ and dividing by the standard deviation $\\sigma$.\n",
    "4. Subtracting the pixel-wise mean $\\mu_{ij}$ and dividing by the pixel-wise standard deviation $\\sigma_{ij}$.\n",
    "5. Rotating the coordinate axes of the data.\n",
    "\n",
    "*Your Answer:* **1, 2, 3**\n",
    "\n",
    "*Your Explanation:*\n",
    "\n",
    "**1.** Distances are preserved \n",
    "   $$||\\tilde{x}^{(k)} - \\tilde{x}^{(l)}||_1 = \\sum_{i=1}^{h}\\sum_{j=1}^{w}|(p_{ij}^{(k)}-\\mu) - (p_{ij}^{(l)}-\\mu)| = \\sum_{i=1}^{h}\\sum_{j=1}^{w}|p_{ij}^{(k)} - p_{ij}^{(l)}| = ||x^{(k)} - x^{(l)}||_1$$\n",
    "**2.** Distances are preserved \n",
    "   $$||\\tilde{x}^{(k)} - \\tilde{x}^{(l)}||_1 = \\sum_{i=1}^{h}\\sum_{j=1}^{w}|(p_{ij}^{(k)}-\\mu_{ij}) - (p_{ij}^{(l)}-\\mu_{ij})| = \\sum_{i=1}^{h}\\sum_{j=1}^{w}|p_{ij}^{(k)} - p_{ij}^{(l)}| = ||x^{(k)} - x^{(l)}||_1$$\n",
    "**3.** Ordering of distances is preserved\n",
    "   $$\\text{Let} \\hspace{0.3cm} ||{x}^{(k)} - {x}^{(l)}||_1 < ||{x}^{(m)} - {x}^{(n)}||_1$$\n",
    "   $$||\\tilde{x}^{(k)} - \\tilde{x}^{(l)}||_1 = \\sum_{i=1}^{h}\\sum_{j=1}^{w}|(p_{ij}^{(k)}-\\mu)/\\sigma - (p_{ij}^{(l)}-\\mu)/\\sigma| = \\frac{1}{\\sigma}\\left(\\sum_{i=1}^{h}\\sum_{j=1}^{w}|(p_{ij}^{(k)}-\\mu) - (p_{ij}^{(l)}-\\mu)|\\right) = \\frac{1}{\\sigma} ||x^{(k)} - x^{(l)}||_1 \\Rightarrow ||\\tilde{x}^{(k)} - \\tilde{x}^{(l)}||_1 < ||\\tilde{x}^{(m)} - \\tilde{x}^{(n)}||_1$$\n",
    "**4.** *Not* preserved\n",
    "   \n",
    "   Let $x_1 = [-2, 0], x_2 = [0, 1], x_3 = [2, 0]$, then\n",
    "\n",
    "   $\\tilde{x}_1 \\approx [-1.22, -0.71], \\tilde{x}_2 \\approx [0, 1.41], \\tilde{x}_3 = [1.22, -0.71]$\n",
    "   $$4.0 = ||x^{(0)} - x^{(1)}||_1 < ||x^{(0)} - x^{(2)}||_1 = 3.0 \\text{, but}$$\n",
    "   $$3.35 \\approx ||\\tilde{x}^{(0)} - \\tilde{x}^{(1)}||_1 > ||\\tilde{x}^{(0)} - \\tilde{x}^{(2)}||_1 \\approx 2.45$$\n",
    "**5.** *Not* preserved\n",
    "\n",
    "   Let $x_1 = [0, 2], x_2 = [2, -1], x_3 = [4, 2]$ and rotate them by 45 degrees with matrix:\n",
    "\n",
    "   $$ A = \\begin{bmatrix}\n",
    "    \\frac{\\sqrt{2}}{2} & -\\frac{\\sqrt{2}}{2} \\\\\n",
    "    \\frac{\\sqrt{2}}{2} & \\frac{\\sqrt{2}}{2} \\\\\n",
    "    \\end{bmatrix} \\text{, then}$$\n",
    "   $\\tilde{x}_1 \\approx [1.41, 1.41], \\tilde{x}_2 \\approx [0.71, -2.12], \\tilde{x}_3 = [4.24, -1.41]$\n",
    "   $$5.0 = ||x^{(0)} - x^{(1)}||_1 > ||x^{(0)} - x^{(2)}||_1 = 4.0 \\text{, but}$$\n",
    "   $$4.24 \\approx ||\\tilde{x}^{(0)} - \\tilde{x}^{(1)}||_1 < ||\\tilde{x}^{(0)} - \\tilde{x}^{(2)}||_1 \\approx 5.66$$\n",
    "\n",
    "*Calculations for this you can find [here](../hw01_knn/proof.ipynb)*"
   ]
  },
  {
   "cell_type": "markdown",
   "metadata": {},
   "source": [
    "## Question 3\n",
    "\n",
    "Which of the following statements about $k$-Nearest Neighbor ($k$-NN) are true in a classification setting, and for all $k$? Select all that apply.\n",
    "1. The decision boundary (hyperplane between classes in feature space) of the k-NN classifier is linear.\n",
    "2. The training error of a 1-NN will always be lower than that of 5-NN.\n",
    "3. The test error of a 1-NN will always be lower than that of a 5-NN.\n",
    "4. The time needed to classify a test example with the k-NN classifier grows with the size of the training set.\n",
    "5. None of the above.\n",
    "\n",
    "*Your Answer:* **2, 4**\n",
    "\n",
    "\n",
    "*Your Explanation:*\n",
    "\n",
    "\n",
    "**1.** *False* it is not linear sample for it you can find [here](../hw01_knn/proof.ipynb)\n",
    "\n",
    "**2.** *True* If you use the training data set as the test set, then with one nearest neighbor. if given sample, the nearest neighbor will be the exact same point and thus the error will be 0. For 5-NN, 0 is a lower bound and you get more than 0 in most of cases.\n",
    "\n",
    "**3.** *False* Consider training data: $x_{train} = [-1, -2, -3, -4, -5, 2]$ $x_{train} = [0, 0, 0, 0, 0, 1]$ and we get new sample $x = 1, y = 0$. For $k = 1$ error will be $100$%, but with $k = 5$ it will be $0$.\n",
    "\n",
    "**4.** *True* $k$-NN needs to go through the entire training set to create a list of nearest neighbors, and as its size increases, the time will increase\n"
   ]
  },
  {
   "cell_type": "code",
   "execution_count": null,
   "metadata": {},
   "outputs": [],
   "source": []
  }
 ],
 "metadata": {
  "kernelspec": {
   "display_name": "Python 3 (ipykernel)",
   "language": "python",
   "name": "python3"
  },
  "language_info": {
   "codemirror_mode": {
    "name": "ipython",
    "version": 3
   },
   "file_extension": ".py",
   "mimetype": "text/x-python",
   "name": "python",
   "nbconvert_exporter": "python",
   "pygments_lexer": "ipython3",
   "version": "3.11.5"
  }
 },
 "nbformat": 4,
 "nbformat_minor": 4
}
